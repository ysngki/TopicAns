{
 "cells": [
  {
   "attachments": {},
   "cell_type": "markdown",
   "id": "4cc0d83c",
   "metadata": {},
   "source": [
    "# First 5w"
   ]
  },
  {
   "cell_type": "code",
   "execution_count": 12,
   "id": "f0eb28fe",
   "metadata": {},
   "outputs": [
    {
     "name": "stdout",
     "output_type": "stream",
     "text": [
      "490996 720524 380107 707736 705244 177178 93905 423391 717283 327861 664660 743515 503899 222881 673622 619825 523604 155674 428638 53758 \n",
      "\n",
      "286292 19566 700646 141919 430497 145576 579605 236686 785181 234500 77395 786610 298331 434494 711280 666623 652020 431535 579985 803453 \n",
      "\n",
      "23485 17433 9621 11146 5086 5899 15441 30662 38645 22249 5687 25980 38606 113533 444 7259 52455 20857 9426 6305 \n",
      "\n",
      "520441 725794 295354 677449 225410 167903 259271 481102 601227 762032 463664 213994 152085 672310 515816 558033 765444 87889 216499 267442 \n",
      "\n",
      "228988 535530 818533 816140 737218 204850 35144 501846 651083 98661 784539 792583 81935 95702 649565 156677 627097 142928 27250 93900 \n",
      "\n",
      "431277 430174 552710 211670 814899 429356 775951 425177 509748 585401 338099 725386 702233 415457 314118 365330 703246 350534 716806 789909 \n",
      "\n",
      "287555 583567 439054 399256 44543 74945 395192 725919 22116 449022 179528 202675 43301 226829 831295 173321 166433 229694 77989 515146 \n",
      "\n",
      "476801 111385 552531 25523 350752 460452 675274 52646 51038 609265 360180 27131 570645 114193 574261 179634 101485 477479 138600 486774 \n",
      "\n",
      "81676 718464 292843 62497 104158 395282 525851 260135 748353 127048 598012 181931 44995 438056 172332 95393 110952 526077 320078 246079 \n",
      "\n",
      "306651 34926 52447 30347 163954 346180 61583 29710 284167 271224 173931 188417 237033 42838 40017 206793 335437 29197 763165 53022 \n",
      "\n",
      "46000\n"
     ]
    }
   ],
   "source": [
    "with open(\"./data/related_questions0\", \"r\") as f:\n",
    "    count = 0\n",
    "    for line in f:\n",
    "        count += 1\n",
    "        if 40001 <= count <= 40010:\n",
    "            print(line)\n",
    "            \n",
    "    print(count)"
   ]
  },
  {
   "cell_type": "code",
   "execution_count": 14,
   "id": "40b61ba0",
   "metadata": {},
   "outputs": [
    {
     "name": "stdout",
     "output_type": "stream",
     "text": [
      "490996 720524 380107 707736 705244 177178 93905 423391 717283 327861 664660 743515 503899 222881 673622 619825 523604 155674 428638 53758 \n",
      "\n",
      "286292 19566 700646 141919 430497 145576 579605 236686 785181 234500 77395 786610 298331 434494 711280 666623 652020 431535 579985 803453 \n",
      "\n",
      "23485 17433 9621 11146 5086 5899 15441 30662 38645 22249 5687 25980 38606 113533 444 7259 52455 20857 9426 6305 \n",
      "\n",
      "520441 725794 295354 677449 225410 167903 259271 481102 601227 762032 463664 213994 152085 672310 515816 558033 765444 87889 216499 267442 \n",
      "\n",
      "228988 535530 818533 816140 737218 204850 35144 501846 651083 98661 784539 792583 81935 95702 649565 156677 627097 142928 27250 93900 \n",
      "\n",
      "431277 430174 552710 211670 814899 429356 775951 425177 509748 585401 338099 725386 702233 415457 314118 365330 703246 350534 716806 789909 \n",
      "\n",
      "287555 583567 439054 399256 44543 74945 395192 725919 22116 449022 179528 202675 43301 226829 831295 173321 166433 229694 77989 515146 \n",
      "\n",
      "476801 111385 552531 25523 350752 460452 675274 52646 51038 609265 360180 27131 570645 114193 574261 179634 101485 477479 138600 486774 \n",
      "\n",
      "81676 718464 292843 62497 104158 395282 525851 260135 748353 127048 598012 181931 44995 438056 172332 95393 110952 526077 320078 246079 \n",
      "\n",
      "306651 34926 52447 30347 163954 346180 61583 29710 284167 271224 173931 188417 237033 42838 40017 206793 335437 29197 763165 53022 \n",
      "\n",
      "10000\n"
     ]
    }
   ],
   "source": [
    "with open(\"./code_bag/related_questions0\", \"r\") as f:\n",
    "    count = 0\n",
    "    for line in f:\n",
    "        count += 1\n",
    "        if count <= 10:\n",
    "            print(line)\n",
    "            \n",
    "    print(count)"
   ]
  },
  {
   "cell_type": "code",
   "execution_count": 16,
   "id": "c4be4c63",
   "metadata": {},
   "outputs": [
    {
     "name": "stdout",
     "output_type": "stream",
     "text": [
      "398272 790272 818087 630654 629249 281208 88928 686297 39374 103705 100091 585581 397953 7083 598473 536350 430381 262369 195596 323082 \n",
      "\n"
     ]
    }
   ],
   "source": [
    "# Start merging\n",
    "out_file = open(\"./important_code/so_python/related_questions0_5\", \"w\")\n",
    "\n",
    "with open(\"./data/related_questions0\", \"r\") as f:\n",
    "    count = 0\n",
    "    for index, line in enumerate(f):\n",
    "        out_file.write(line)\n",
    "        count += 1\n",
    "        \n",
    "        if count == 40000:\n",
    "            print(line)\n",
    "            break\n",
    "\n",
    "out_file.close()"
   ]
  },
  {
   "cell_type": "code",
   "execution_count": 19,
   "id": "e5f377be",
   "metadata": {},
   "outputs": [
    {
     "name": "stdout",
     "output_type": "stream",
     "text": [
      "10000\n"
     ]
    }
   ],
   "source": [
    "# Start merging\n",
    "out_file = open(\"./important_code/so_python/related_questions0_5\", \"a\")\n",
    "\n",
    "with open(\"./code_bag/related_questions0\", \"r\") as f:\n",
    "    count = 0\n",
    "    for index, line in enumerate(f):\n",
    "        out_file.write(line)\n",
    "        count += 1\n",
    "        \n",
    "    print(count)\n",
    "\n",
    "out_file.close()"
   ]
  },
  {
   "cell_type": "code",
   "execution_count": 20,
   "id": "be4a701d",
   "metadata": {},
   "outputs": [
    {
     "name": "stdout",
     "output_type": "stream",
     "text": [
      "50000\n"
     ]
    }
   ],
   "source": [
    "with open(\"./important_code/so_python/related_questions0_5\", \"r\") as f:\n",
    "    count = 0\n",
    "    for line in f:\n",
    "        count += 1\n",
    "    print(count)"
   ]
  },
  {
   "cell_type": "markdown",
   "id": "c03be997",
   "metadata": {},
   "source": [
    "# 10w"
   ]
  },
  {
   "cell_type": "code",
   "execution_count": 23,
   "id": "42405544",
   "metadata": {},
   "outputs": [
    {
     "name": "stdout",
     "output_type": "stream",
     "text": [
      "225979 292800 814427 806076 605211 344533 282031 636157 455546 63541 121066 616399 286947 428761 403448 547625 188585 161542 172876 800403 \n",
      "\n",
      "46500\n"
     ]
    }
   ],
   "source": [
    "with open(\"./data/related_questions1\", \"r\") as f:\n",
    "    count = 0\n",
    "    for line in f:\n",
    "        count += 1\n",
    "        if count == 40001:\n",
    "            print(line)\n",
    "            \n",
    "    print(count)"
   ]
  },
  {
   "cell_type": "code",
   "execution_count": 25,
   "id": "c0d9b253",
   "metadata": {},
   "outputs": [
    {
     "name": "stdout",
     "output_type": "stream",
     "text": [
      "225979 292800 814427 806076 605211 344533 282031 636157 455546 63541 121066 616399 286947 428761 403448 547625 188585 161542 172876 800403 \n",
      "\n",
      "10000\n"
     ]
    }
   ],
   "source": [
    "with open(\"./code_bag/related_questions1\", \"r\") as f:\n",
    "    count = 0\n",
    "    for line in f:\n",
    "        if count == 0:\n",
    "            print(line)\n",
    "        \n",
    "        count += 1\n",
    "            \n",
    "    print(count)"
   ]
  },
  {
   "cell_type": "code",
   "execution_count": 26,
   "id": "2608b0e6",
   "metadata": {},
   "outputs": [
    {
     "name": "stdout",
     "output_type": "stream",
     "text": [
      "225979 292800 814427 806076 605211 344533 282031 636157 455546 63541 121066 616399 286947 428761 403448 547625 188585 161542 172876 800403 \n",
      "\n"
     ]
    }
   ],
   "source": [
    "# Start merging\n",
    "out_file = open(\"./important_code/so_python/related_questions5_10\", \"w\")\n",
    "\n",
    "with open(\"./data/related_questions1\", \"r\") as f:\n",
    "    count = 0\n",
    "    for index, line in enumerate(f):\n",
    "        if count == 40000:\n",
    "            print(line)\n",
    "            break\n",
    "        out_file.write(line)\n",
    "        count += 1\n",
    "\n",
    "out_file.close()"
   ]
  },
  {
   "cell_type": "code",
   "execution_count": 27,
   "id": "f9a2bfdf",
   "metadata": {},
   "outputs": [
    {
     "name": "stdout",
     "output_type": "stream",
     "text": [
      "10000\n"
     ]
    }
   ],
   "source": [
    "# Start merging\n",
    "out_file = open(\"./important_code/so_python/related_questions5_10\", \"a\")\n",
    "\n",
    "with open(\"./code_bag/related_questions1\", \"r\") as f:\n",
    "    count = 0\n",
    "    for index, line in enumerate(f):\n",
    "        out_file.write(line)\n",
    "        count += 1\n",
    "        \n",
    "    print(count)\n",
    "\n",
    "out_file.close()"
   ]
  },
  {
   "cell_type": "code",
   "execution_count": 34,
   "id": "f4e19839",
   "metadata": {},
   "outputs": [
    {
     "name": "stdout",
     "output_type": "stream",
     "text": [
      "50000\n"
     ]
    }
   ],
   "source": [
    "with open(\"./important_code/so_python/related_questions5_10\", \"r\") as f:\n",
    "    count = 0\n",
    "    for line in f:\n",
    "        count += 1\n",
    "    print(count)"
   ]
  },
  {
   "cell_type": "markdown",
   "id": "eb87798e",
   "metadata": {},
   "source": [
    "# 15w"
   ]
  },
  {
   "cell_type": "code",
   "execution_count": 30,
   "id": "e6403c85",
   "metadata": {},
   "outputs": [
    {
     "name": "stdout",
     "output_type": "stream",
     "text": [
      "179465 89097 648218 641780 318161 403260 279431 774521 262195 75902 215701 417954 121367 367850 688973 266870 106202 283622 343793 249804 \n",
      "\n",
      "46500\n"
     ]
    }
   ],
   "source": [
    "with open(\"./data/related_questions2\", \"r\") as f:\n",
    "    count = 0\n",
    "    for line in f:\n",
    "        count += 1\n",
    "        if count == 40001:\n",
    "            print(line)\n",
    "            \n",
    "    print(count)"
   ]
  },
  {
   "cell_type": "code",
   "execution_count": 31,
   "id": "3f99be68",
   "metadata": {},
   "outputs": [
    {
     "name": "stdout",
     "output_type": "stream",
     "text": [
      "179465 89097 648218 641780 318161 403260 279431 774521 262195 75902 215701 417954 121367 367850 688973 266870 106202 283622 343793 249804 \n",
      "\n",
      "10000\n"
     ]
    }
   ],
   "source": [
    "with open(\"./code_bag/related_questions2\", \"r\") as f:\n",
    "    count = 0\n",
    "    for line in f:\n",
    "        if count == 0:\n",
    "            print(line)\n",
    "        \n",
    "        count += 1\n",
    "            \n",
    "    print(count)"
   ]
  },
  {
   "cell_type": "code",
   "execution_count": 32,
   "id": "2e959df9",
   "metadata": {},
   "outputs": [
    {
     "name": "stdout",
     "output_type": "stream",
     "text": [
      "179465 89097 648218 641780 318161 403260 279431 774521 262195 75902 215701 417954 121367 367850 688973 266870 106202 283622 343793 249804 \n",
      "\n"
     ]
    }
   ],
   "source": [
    "# Start merging\n",
    "out_file = open(\"./important_code/so_python/related_questions10_15\", \"w\")\n",
    "\n",
    "with open(\"./data/related_questions2\", \"r\") as f:\n",
    "    count = 0\n",
    "    for index, line in enumerate(f):\n",
    "        if count == 40000:\n",
    "            print(line)\n",
    "            break\n",
    "        out_file.write(line)\n",
    "        count += 1\n",
    "\n",
    "out_file.close()"
   ]
  },
  {
   "cell_type": "code",
   "execution_count": 33,
   "id": "7abc12c8",
   "metadata": {},
   "outputs": [
    {
     "name": "stdout",
     "output_type": "stream",
     "text": [
      "10000\n"
     ]
    }
   ],
   "source": [
    "# Start merging\n",
    "out_file = open(\"./important_code/so_python/related_questions10_15\", \"a\")\n",
    "\n",
    "with open(\"./code_bag/related_questions2\", \"r\") as f:\n",
    "    count = 0\n",
    "    for index, line in enumerate(f):\n",
    "        out_file.write(line)\n",
    "        count += 1\n",
    "        \n",
    "    print(count)\n",
    "\n",
    "out_file.close()"
   ]
  },
  {
   "cell_type": "code",
   "execution_count": 35,
   "id": "5ebd051a",
   "metadata": {},
   "outputs": [
    {
     "name": "stdout",
     "output_type": "stream",
     "text": [
      "50000\n"
     ]
    }
   ],
   "source": [
    "with open(\"./important_code/so_python/related_questions10_15\", \"r\") as f:\n",
    "    count = 0\n",
    "    for line in f:\n",
    "        count += 1\n",
    "    print(count)"
   ]
  },
  {
   "cell_type": "markdown",
   "id": "56a8d12f",
   "metadata": {},
   "source": [
    "# 20w"
   ]
  },
  {
   "cell_type": "code",
   "execution_count": 36,
   "id": "039d37db",
   "metadata": {},
   "outputs": [
    {
     "name": "stdout",
     "output_type": "stream",
     "text": [
      "211191 626147 535160 163281 689035 63498 142264 145221 63850 544647 245132 135194 397888 27560 100513 243051 439126 791198 638596 571251 \n",
      "\n",
      "46000\n"
     ]
    }
   ],
   "source": [
    "with open(\"./data/related_questions3\", \"r\") as f:\n",
    "    count = 0\n",
    "    for line in f:\n",
    "        count += 1\n",
    "        if count == 40001:\n",
    "            print(line)\n",
    "            \n",
    "    print(count)"
   ]
  },
  {
   "cell_type": "code",
   "execution_count": 37,
   "id": "b981a32a",
   "metadata": {},
   "outputs": [
    {
     "name": "stdout",
     "output_type": "stream",
     "text": [
      "211191 626147 535160 163281 689035 63498 142264 145221 63850 544647 245132 135194 397888 27560 100513 243051 439126 791198 638596 571251 \n",
      "\n",
      "10000\n"
     ]
    }
   ],
   "source": [
    "with open(\"./code_bag/related_questions3\", \"r\") as f:\n",
    "    count = 0\n",
    "    for line in f:\n",
    "        if count == 0:\n",
    "            print(line)\n",
    "        \n",
    "        count += 1\n",
    "            \n",
    "    print(count)"
   ]
  },
  {
   "cell_type": "code",
   "execution_count": 38,
   "id": "c5e50750",
   "metadata": {},
   "outputs": [
    {
     "name": "stdout",
     "output_type": "stream",
     "text": [
      "211191 626147 535160 163281 689035 63498 142264 145221 63850 544647 245132 135194 397888 27560 100513 243051 439126 791198 638596 571251 \n",
      "\n"
     ]
    }
   ],
   "source": [
    "# Start merging\n",
    "out_file = open(\"./important_code/so_python/related_questions15_20\", \"w\")\n",
    "\n",
    "with open(\"./data/related_questions3\", \"r\") as f:\n",
    "    count = 0\n",
    "    for index, line in enumerate(f):\n",
    "        if count == 40000:\n",
    "            print(line)\n",
    "            break\n",
    "        out_file.write(line)\n",
    "        count += 1\n",
    "\n",
    "out_file.close()"
   ]
  },
  {
   "cell_type": "code",
   "execution_count": 39,
   "id": "4c2c338c",
   "metadata": {},
   "outputs": [
    {
     "name": "stdout",
     "output_type": "stream",
     "text": [
      "10000\n"
     ]
    }
   ],
   "source": [
    "# Start merging\n",
    "out_file = open(\"./important_code/so_python/related_questions15_20\", \"a\")\n",
    "\n",
    "with open(\"./code_bag/related_questions3\", \"r\") as f:\n",
    "    count = 0\n",
    "    for index, line in enumerate(f):\n",
    "        out_file.write(line)\n",
    "        count += 1\n",
    "        \n",
    "    print(count)\n",
    "\n",
    "out_file.close()"
   ]
  },
  {
   "cell_type": "code",
   "execution_count": 40,
   "id": "5be7d808",
   "metadata": {},
   "outputs": [
    {
     "name": "stdout",
     "output_type": "stream",
     "text": [
      "50000\n"
     ]
    }
   ],
   "source": [
    "with open(\"./important_code/so_python/related_questions15_20\", \"r\") as f:\n",
    "    count = 0\n",
    "    for line in f:\n",
    "        count += 1\n",
    "    print(count)"
   ]
  },
  {
   "cell_type": "markdown",
   "id": "c7622a31",
   "metadata": {},
   "source": [
    "# 25w"
   ]
  },
  {
   "cell_type": "code",
   "execution_count": 41,
   "id": "0d907c5b",
   "metadata": {},
   "outputs": [
    {
     "name": "stdout",
     "output_type": "stream",
     "text": [
      "592809 479199 344577 542334 812559 743032 199959 451802 248080 336097 466527 768394 764726 712446 456508 522284 699233 746682 411715 437201 \n",
      "\n",
      "46500\n"
     ]
    }
   ],
   "source": [
    "with open(\"./data/related_questions4\", \"r\") as f:\n",
    "    count = 0\n",
    "    for line in f:\n",
    "        count += 1\n",
    "        if count == 40001:\n",
    "            print(line)\n",
    "            \n",
    "    print(count)"
   ]
  },
  {
   "cell_type": "code",
   "execution_count": 42,
   "id": "1a94681e",
   "metadata": {},
   "outputs": [
    {
     "name": "stdout",
     "output_type": "stream",
     "text": [
      "592809 479199 344577 542334 812559 743032 199959 451802 248080 336097 466527 768394 764726 712446 456508 522284 699233 746682 411715 437201 \n",
      "\n",
      "10000\n"
     ]
    }
   ],
   "source": [
    "with open(\"./code_bag/related_questions4\", \"r\") as f:\n",
    "    count = 0\n",
    "    for line in f:\n",
    "        if count == 0:\n",
    "            print(line)\n",
    "        \n",
    "        count += 1\n",
    "            \n",
    "    print(count)"
   ]
  },
  {
   "cell_type": "code",
   "execution_count": 43,
   "id": "4a992f25",
   "metadata": {},
   "outputs": [
    {
     "name": "stdout",
     "output_type": "stream",
     "text": [
      "592809 479199 344577 542334 812559 743032 199959 451802 248080 336097 466527 768394 764726 712446 456508 522284 699233 746682 411715 437201 \n",
      "\n"
     ]
    }
   ],
   "source": [
    "# Start merging\n",
    "out_file = open(\"./important_code/so_python/related_questions20_25\", \"w\")\n",
    "\n",
    "with open(\"./data/related_questions4\", \"r\") as f:\n",
    "    count = 0\n",
    "    for index, line in enumerate(f):\n",
    "        if count == 40000:\n",
    "            print(line)\n",
    "            break\n",
    "        out_file.write(line)\n",
    "        count += 1\n",
    "\n",
    "out_file.close()"
   ]
  },
  {
   "cell_type": "code",
   "execution_count": 44,
   "id": "2ca46e10",
   "metadata": {},
   "outputs": [
    {
     "name": "stdout",
     "output_type": "stream",
     "text": [
      "10000\n"
     ]
    }
   ],
   "source": [
    "# Start merging\n",
    "out_file = open(\"./important_code/so_python/related_questions20_25\", \"a\")\n",
    "\n",
    "with open(\"./code_bag/related_questions4\", \"r\") as f:\n",
    "    count = 0\n",
    "    for index, line in enumerate(f):\n",
    "        out_file.write(line)\n",
    "        count += 1\n",
    "        \n",
    "    print(count)\n",
    "\n",
    "out_file.close()"
   ]
  },
  {
   "cell_type": "code",
   "execution_count": 45,
   "id": "4598a2d9",
   "metadata": {},
   "outputs": [
    {
     "name": "stdout",
     "output_type": "stream",
     "text": [
      "50000\n"
     ]
    }
   ],
   "source": [
    "with open(\"./important_code/so_python/related_questions20_25\", \"r\") as f:\n",
    "    count = 0\n",
    "    for line in f:\n",
    "        count += 1\n",
    "    print(count)"
   ]
  },
  {
   "cell_type": "markdown",
   "id": "39c35dc1",
   "metadata": {},
   "source": [
    "# 30w"
   ]
  },
  {
   "cell_type": "code",
   "execution_count": 51,
   "id": "33e8ebed",
   "metadata": {},
   "outputs": [
    {
     "name": "stdout",
     "output_type": "stream",
     "text": [
      "142508 314886 227234 404716 291242 367410 108077 228976 247458 159831 299571 108534 442937 264325 819874 187647 745689 216656 447985 539231 \n",
      "\n",
      "38500\n"
     ]
    }
   ],
   "source": [
    "with open(\"./data/related_questions5\", \"r\") as f:\n",
    "    count = 0\n",
    "    for line in f:\n",
    "        count += 1\n",
    "        if count == 30001:\n",
    "            print(line)\n",
    "            \n",
    "    print(count)"
   ]
  },
  {
   "cell_type": "code",
   "execution_count": 50,
   "id": "1124f99a",
   "metadata": {},
   "outputs": [
    {
     "name": "stdout",
     "output_type": "stream",
     "text": [
      "142508 314886 227234 404716 291242 367410 108077 228976 247458 159831 299571 108534 442937 264325 819874 187647 745689 216656 447985 539231 \n",
      "\n",
      "20000\n"
     ]
    }
   ],
   "source": [
    "with open(\"./code_bag/related_questions5\", \"r\") as f:\n",
    "    count = 0\n",
    "    for line in f:\n",
    "        if count == 0:\n",
    "            print(line)\n",
    "        \n",
    "        count += 1\n",
    "            \n",
    "    print(count)"
   ]
  },
  {
   "cell_type": "code",
   "execution_count": 52,
   "id": "d58cc28d",
   "metadata": {},
   "outputs": [
    {
     "name": "stdout",
     "output_type": "stream",
     "text": [
      "142508 314886 227234 404716 291242 367410 108077 228976 247458 159831 299571 108534 442937 264325 819874 187647 745689 216656 447985 539231 \n",
      "\n"
     ]
    }
   ],
   "source": [
    "# Start merging\n",
    "out_file = open(\"./important_code/so_python/related_questions25_30\", \"w\")\n",
    "\n",
    "with open(\"./data/related_questions5\", \"r\") as f:\n",
    "    count = 0\n",
    "    for index, line in enumerate(f):\n",
    "        if count == 30000:\n",
    "            print(line)\n",
    "            break\n",
    "        out_file.write(line)\n",
    "        count += 1\n",
    "\n",
    "out_file.close()"
   ]
  },
  {
   "cell_type": "code",
   "execution_count": 53,
   "id": "b76c963e",
   "metadata": {},
   "outputs": [
    {
     "name": "stdout",
     "output_type": "stream",
     "text": [
      "20000\n"
     ]
    }
   ],
   "source": [
    "# Start merging\n",
    "out_file = open(\"./important_code/so_python/related_questions25_30\", \"a\")\n",
    "\n",
    "with open(\"./code_bag/related_questions5\", \"r\") as f:\n",
    "    count = 0\n",
    "    for index, line in enumerate(f):\n",
    "        out_file.write(line)\n",
    "        count += 1\n",
    "        \n",
    "    print(count)\n",
    "\n",
    "out_file.close()"
   ]
  },
  {
   "cell_type": "code",
   "execution_count": 54,
   "id": "d6d3ed82",
   "metadata": {},
   "outputs": [
    {
     "name": "stdout",
     "output_type": "stream",
     "text": [
      "50000\n"
     ]
    }
   ],
   "source": [
    "with open(\"./important_code/so_python/related_questions25_30\", \"r\") as f:\n",
    "    count = 0\n",
    "    for line in f:\n",
    "        count += 1\n",
    "    print(count)"
   ]
  },
  {
   "cell_type": "markdown",
   "id": "39a2e5e1",
   "metadata": {},
   "source": [
    "# 35w"
   ]
  },
  {
   "cell_type": "code",
   "execution_count": 55,
   "id": "b2867098",
   "metadata": {},
   "outputs": [
    {
     "name": "stdout",
     "output_type": "stream",
     "text": [
      "96267 179040 282026 98109 274292 232942 26014 598625 149384 374 371967 336000 558448 376650 545669 94897 173736 749680 34122 193443 \n",
      "\n",
      "38500\n"
     ]
    }
   ],
   "source": [
    "with open(\"./data/related_questions6\", \"r\") as f:\n",
    "    count = 0\n",
    "    for line in f:\n",
    "        count += 1\n",
    "        if count == 30001:\n",
    "            print(line)\n",
    "            \n",
    "    print(count)"
   ]
  },
  {
   "cell_type": "code",
   "execution_count": 56,
   "id": "dddf39cd",
   "metadata": {},
   "outputs": [
    {
     "name": "stdout",
     "output_type": "stream",
     "text": [
      "96267 179040 282026 98109 274292 232942 26014 598625 149384 374 371967 336000 558448 376650 545669 94897 173736 749680 34122 193443 \n",
      "\n",
      "20000\n"
     ]
    }
   ],
   "source": [
    "with open(\"./code_bag/related_questions6\", \"r\") as f:\n",
    "    count = 0\n",
    "    for line in f:\n",
    "        if count == 0:\n",
    "            print(line)\n",
    "        \n",
    "        count += 1\n",
    "            \n",
    "    print(count)"
   ]
  },
  {
   "cell_type": "code",
   "execution_count": 57,
   "id": "e9b6aa6a",
   "metadata": {},
   "outputs": [
    {
     "name": "stdout",
     "output_type": "stream",
     "text": [
      "96267 179040 282026 98109 274292 232942 26014 598625 149384 374 371967 336000 558448 376650 545669 94897 173736 749680 34122 193443 \n",
      "\n"
     ]
    }
   ],
   "source": [
    "# Start merging\n",
    "out_file = open(\"./important_code/so_python/related_questions30_35\", \"w\")\n",
    "\n",
    "with open(\"./data/related_questions6\", \"r\") as f:\n",
    "    count = 0\n",
    "    for index, line in enumerate(f):\n",
    "        if count == 30000:\n",
    "            print(line)\n",
    "            break\n",
    "        out_file.write(line)\n",
    "        count += 1\n",
    "\n",
    "out_file.close()"
   ]
  },
  {
   "cell_type": "code",
   "execution_count": 58,
   "id": "5a737797",
   "metadata": {},
   "outputs": [
    {
     "name": "stdout",
     "output_type": "stream",
     "text": [
      "20000\n"
     ]
    }
   ],
   "source": [
    "# Start merging\n",
    "out_file = open(\"./important_code/so_python/related_questions30_35\", \"a\")\n",
    "\n",
    "with open(\"./code_bag/related_questions6\", \"r\") as f:\n",
    "    count = 0\n",
    "    for index, line in enumerate(f):\n",
    "        out_file.write(line)\n",
    "        count += 1\n",
    "        \n",
    "    print(count)\n",
    "\n",
    "out_file.close()"
   ]
  },
  {
   "cell_type": "code",
   "execution_count": 59,
   "id": "427587f9",
   "metadata": {},
   "outputs": [
    {
     "name": "stdout",
     "output_type": "stream",
     "text": [
      "50000\n"
     ]
    }
   ],
   "source": [
    "with open(\"./important_code/so_python/related_questions30_35\", \"r\") as f:\n",
    "    count = 0\n",
    "    for line in f:\n",
    "        count += 1\n",
    "    print(count)"
   ]
  },
  {
   "cell_type": "markdown",
   "id": "b1ff956a",
   "metadata": {},
   "source": [
    "# 40w"
   ]
  },
  {
   "cell_type": "code",
   "execution_count": 60,
   "id": "6ae2b153",
   "metadata": {},
   "outputs": [
    {
     "name": "stdout",
     "output_type": "stream",
     "text": [
      "707077 71813 739701 433774 791337 732938 15557 117902 839177 19252 793641 125603 607366 225933 112935 558307 279011 479257 64986 164241 \n",
      "\n",
      "38000\n"
     ]
    }
   ],
   "source": [
    "with open(\"./data/related_questions7\", \"r\") as f:\n",
    "    count = 0\n",
    "    for line in f:\n",
    "        count += 1\n",
    "        if count == 30001:\n",
    "            print(line)\n",
    "            \n",
    "    print(count)"
   ]
  },
  {
   "cell_type": "code",
   "execution_count": 61,
   "id": "f15895f0",
   "metadata": {},
   "outputs": [
    {
     "name": "stdout",
     "output_type": "stream",
     "text": [
      "707077 71813 739701 433774 791337 732938 15557 117902 839177 19252 793641 125603 607366 225933 112935 558307 279011 479257 64986 164241 \n",
      "\n",
      "20000\n"
     ]
    }
   ],
   "source": [
    "with open(\"./code_bag/related_questions7\", \"r\") as f:\n",
    "    count = 0\n",
    "    for line in f:\n",
    "        if count == 0:\n",
    "            print(line)\n",
    "        \n",
    "        count += 1\n",
    "            \n",
    "    print(count)"
   ]
  },
  {
   "cell_type": "code",
   "execution_count": 62,
   "id": "e15dfbaa",
   "metadata": {},
   "outputs": [
    {
     "name": "stdout",
     "output_type": "stream",
     "text": [
      "707077 71813 739701 433774 791337 732938 15557 117902 839177 19252 793641 125603 607366 225933 112935 558307 279011 479257 64986 164241 \n",
      "\n"
     ]
    }
   ],
   "source": [
    "# Start merging\n",
    "out_file = open(\"./important_code/so_python/related_questions35_40\", \"w\")\n",
    "\n",
    "with open(\"./data/related_questions7\", \"r\") as f:\n",
    "    count = 0\n",
    "    for index, line in enumerate(f):\n",
    "        if count == 30000:\n",
    "            print(line)\n",
    "            break\n",
    "        out_file.write(line)\n",
    "        count += 1\n",
    "\n",
    "out_file.close()"
   ]
  },
  {
   "cell_type": "code",
   "execution_count": 63,
   "id": "3f985061",
   "metadata": {},
   "outputs": [
    {
     "name": "stdout",
     "output_type": "stream",
     "text": [
      "20000\n"
     ]
    }
   ],
   "source": [
    "# Start merging\n",
    "out_file = open(\"./important_code/so_python/related_questions35_40\", \"a\")\n",
    "\n",
    "with open(\"./code_bag/related_questions7\", \"r\") as f:\n",
    "    count = 0\n",
    "    for index, line in enumerate(f):\n",
    "        out_file.write(line)\n",
    "        count += 1\n",
    "        \n",
    "    print(count)\n",
    "\n",
    "out_file.close()"
   ]
  },
  {
   "cell_type": "code",
   "execution_count": 64,
   "id": "c0cae055",
   "metadata": {},
   "outputs": [
    {
     "name": "stdout",
     "output_type": "stream",
     "text": [
      "50000\n"
     ]
    }
   ],
   "source": [
    "with open(\"./important_code/so_python/related_questions35_40\", \"r\") as f:\n",
    "    count = 0\n",
    "    for line in f:\n",
    "        count += 1\n",
    "    print(count)"
   ]
  },
  {
   "cell_type": "markdown",
   "id": "ab96ba53",
   "metadata": {},
   "source": [
    "# 45w"
   ]
  },
  {
   "cell_type": "code",
   "execution_count": 65,
   "id": "3075e58d",
   "metadata": {},
   "outputs": [
    {
     "name": "stdout",
     "output_type": "stream",
     "text": [
      "84462 318878 651943 377870 730744 255687 10269 142835 734341 697971 368056 393944 755927 666909 821907 29245 101069 814172 256846 619720 \n",
      "\n",
      "38000\n"
     ]
    }
   ],
   "source": [
    "with open(\"./data/related_questions8\", \"r\") as f:\n",
    "    count = 0\n",
    "    for line in f:\n",
    "        count += 1\n",
    "        if count == 30001:\n",
    "            print(line)\n",
    "            \n",
    "    print(count)"
   ]
  },
  {
   "cell_type": "code",
   "execution_count": 66,
   "id": "a3ce58ab",
   "metadata": {},
   "outputs": [
    {
     "name": "stdout",
     "output_type": "stream",
     "text": [
      "84462 318878 651943 377870 730744 255687 10269 142835 734341 697971 368056 393944 755927 666909 821907 29245 101069 814172 256846 619720 \n",
      "\n",
      "20000\n"
     ]
    }
   ],
   "source": [
    "with open(\"./code_bag/related_questions8\", \"r\") as f:\n",
    "    count = 0\n",
    "    for line in f:\n",
    "        if count == 0:\n",
    "            print(line)\n",
    "        \n",
    "        count += 1\n",
    "            \n",
    "    print(count)"
   ]
  },
  {
   "cell_type": "code",
   "execution_count": 67,
   "id": "348ea682",
   "metadata": {},
   "outputs": [
    {
     "name": "stdout",
     "output_type": "stream",
     "text": [
      "84462 318878 651943 377870 730744 255687 10269 142835 734341 697971 368056 393944 755927 666909 821907 29245 101069 814172 256846 619720 \n",
      "\n"
     ]
    }
   ],
   "source": [
    "# Start merging\n",
    "out_file = open(\"./important_code/so_python/related_questions40_45\", \"w\")\n",
    "\n",
    "with open(\"./data/related_questions8\", \"r\") as f:\n",
    "    count = 0\n",
    "    for index, line in enumerate(f):\n",
    "        if count == 30000:\n",
    "            print(line)\n",
    "            break\n",
    "        out_file.write(line)\n",
    "        count += 1\n",
    "\n",
    "out_file.close()"
   ]
  },
  {
   "cell_type": "code",
   "execution_count": 68,
   "id": "765b928d",
   "metadata": {},
   "outputs": [
    {
     "name": "stdout",
     "output_type": "stream",
     "text": [
      "20000\n"
     ]
    }
   ],
   "source": [
    "# Start merging\n",
    "out_file = open(\"./important_code/so_python/related_questions40_45\", \"a\")\n",
    "\n",
    "with open(\"./code_bag/related_questions8\", \"r\") as f:\n",
    "    count = 0\n",
    "    for index, line in enumerate(f):\n",
    "        out_file.write(line)\n",
    "        count += 1\n",
    "        \n",
    "    print(count)\n",
    "\n",
    "out_file.close()"
   ]
  },
  {
   "cell_type": "code",
   "execution_count": 69,
   "id": "541d4df5",
   "metadata": {
    "scrolled": true
   },
   "outputs": [
    {
     "name": "stdout",
     "output_type": "stream",
     "text": [
      "50000\n"
     ]
    }
   ],
   "source": [
    "with open(\"./important_code/so_python/related_questions40_45\", \"r\") as f:\n",
    "    count = 0\n",
    "    for line in f:\n",
    "        count += 1\n",
    "    print(count)"
   ]
  },
  {
   "cell_type": "markdown",
   "id": "d2f28eeb",
   "metadata": {},
   "source": [
    "# 50w"
   ]
  },
  {
   "cell_type": "code",
   "execution_count": 70,
   "id": "310acc87",
   "metadata": {},
   "outputs": [
    {
     "name": "stdout",
     "output_type": "stream",
     "text": [
      "30000\n"
     ]
    }
   ],
   "source": [
    "with open(\"./data/related_questions9\", \"r\") as f:\n",
    "    count = 0\n",
    "    for line in f:\n",
    "        count += 1\n",
    "        if count == 30001:\n",
    "            print(line)\n",
    "            \n",
    "    print(count)"
   ]
  },
  {
   "cell_type": "code",
   "execution_count": 71,
   "id": "78317e25",
   "metadata": {},
   "outputs": [
    {
     "name": "stdout",
     "output_type": "stream",
     "text": [
      "131367 101808 143941 6 349557 618724 17684 312742 249136 234469 257112 124571 696122 4264 437593 309074 136611 162724 64734 471299 \n",
      "\n",
      "20000\n"
     ]
    }
   ],
   "source": [
    "with open(\"./code_bag/related_questions9\", \"r\") as f:\n",
    "    count = 0\n",
    "    for line in f:\n",
    "        if count == 0:\n",
    "            print(line)\n",
    "        \n",
    "        count += 1\n",
    "            \n",
    "    print(count)"
   ]
  },
  {
   "cell_type": "code",
   "execution_count": 72,
   "id": "5f57a718",
   "metadata": {},
   "outputs": [],
   "source": [
    "# Start merging\n",
    "out_file = open(\"./important_code/so_python/related_questions45_50\", \"w\")\n",
    "\n",
    "with open(\"./data/related_questions9\", \"r\") as f:\n",
    "    count = 0\n",
    "    for index, line in enumerate(f):\n",
    "        if count == 30000:\n",
    "            print(line)\n",
    "            break\n",
    "        out_file.write(line)\n",
    "        count += 1\n",
    "\n",
    "out_file.close()"
   ]
  },
  {
   "cell_type": "code",
   "execution_count": 73,
   "id": "d1ac13e0",
   "metadata": {},
   "outputs": [
    {
     "name": "stdout",
     "output_type": "stream",
     "text": [
      "20000\n"
     ]
    }
   ],
   "source": [
    "# Start merging\n",
    "out_file = open(\"./important_code/so_python/related_questions45_50\", \"a\")\n",
    "\n",
    "with open(\"./code_bag/related_questions9\", \"r\") as f:\n",
    "    count = 0\n",
    "    for index, line in enumerate(f):\n",
    "        out_file.write(line)\n",
    "        count += 1\n",
    "        \n",
    "    print(count)\n",
    "\n",
    "out_file.close()"
   ]
  },
  {
   "cell_type": "code",
   "execution_count": 74,
   "id": "c941c329",
   "metadata": {},
   "outputs": [
    {
     "name": "stdout",
     "output_type": "stream",
     "text": [
      "50000\n"
     ]
    }
   ],
   "source": [
    "with open(\"./important_code/so_python/related_questions45_50\", \"r\") as f:\n",
    "    count = 0\n",
    "    for line in f:\n",
    "        count += 1\n",
    "    print(count)"
   ]
  },
  {
   "cell_type": "markdown",
   "id": "142986fb",
   "metadata": {},
   "source": [
    "# 55w"
   ]
  },
  {
   "cell_type": "code",
   "execution_count": 75,
   "id": "5aa0ba54",
   "metadata": {},
   "outputs": [
    {
     "name": "stdout",
     "output_type": "stream",
     "text": [
      "744745 478789 433562 700800 766276 568660 153844 274182 254635 12206 741395 75347 614359 204022 245398 103625 719326 548245 64855 170826 \n",
      "\n",
      "30500\n"
     ]
    }
   ],
   "source": [
    "with open(\"./data/related_questions10\", \"r\") as f:\n",
    "    count = 0\n",
    "    for line in f:\n",
    "        count += 1\n",
    "        if count == 30001:\n",
    "            print(line)\n",
    "            \n",
    "    print(count)"
   ]
  },
  {
   "cell_type": "code",
   "execution_count": 76,
   "id": "ab17b0bd",
   "metadata": {},
   "outputs": [
    {
     "name": "stdout",
     "output_type": "stream",
     "text": [
      "744745 478789 433562 700800 766276 568660 153844 274182 254635 12206 741395 75347 614359 204022 245398 103625 719326 548245 64855 170826 \n",
      "\n",
      "20000\n"
     ]
    }
   ],
   "source": [
    "with open(\"./code_bag/related_questions10\", \"r\") as f:\n",
    "    count = 0\n",
    "    for line in f:\n",
    "        if count == 0:\n",
    "            print(line)\n",
    "        \n",
    "        count += 1\n",
    "            \n",
    "    print(count)"
   ]
  },
  {
   "cell_type": "code",
   "execution_count": 77,
   "id": "fbf63e36",
   "metadata": {},
   "outputs": [
    {
     "name": "stdout",
     "output_type": "stream",
     "text": [
      "744745 478789 433562 700800 766276 568660 153844 274182 254635 12206 741395 75347 614359 204022 245398 103625 719326 548245 64855 170826 \n",
      "\n"
     ]
    }
   ],
   "source": [
    "# Start merging\n",
    "out_file = open(\"./important_code/so_python/related_questions50_55\", \"w\")\n",
    "\n",
    "with open(\"./data/related_questions10\", \"r\") as f:\n",
    "    count = 0\n",
    "    for index, line in enumerate(f):\n",
    "        if count == 30000:\n",
    "            print(line)\n",
    "            break\n",
    "        out_file.write(line)\n",
    "        count += 1\n",
    "\n",
    "out_file.close()"
   ]
  },
  {
   "cell_type": "code",
   "execution_count": 78,
   "id": "0dfb4e75",
   "metadata": {},
   "outputs": [
    {
     "name": "stdout",
     "output_type": "stream",
     "text": [
      "20000\n"
     ]
    }
   ],
   "source": [
    "# Start merging\n",
    "out_file = open(\"./important_code/so_python/related_questions50_55\", \"a\")\n",
    "\n",
    "with open(\"./code_bag/related_questions10\", \"r\") as f:\n",
    "    count = 0\n",
    "    for index, line in enumerate(f):\n",
    "        out_file.write(line)\n",
    "        count += 1\n",
    "        \n",
    "    print(count)\n",
    "\n",
    "out_file.close()"
   ]
  },
  {
   "cell_type": "code",
   "execution_count": 79,
   "id": "90751b6b",
   "metadata": {},
   "outputs": [
    {
     "name": "stdout",
     "output_type": "stream",
     "text": [
      "50000\n"
     ]
    }
   ],
   "source": [
    "with open(\"./important_code/so_python/related_questions50_55\", \"r\") as f:\n",
    "    count = 0\n",
    "    for line in f:\n",
    "        count += 1\n",
    "    print(count)"
   ]
  },
  {
   "cell_type": "markdown",
   "id": "c3730b7e",
   "metadata": {},
   "source": [
    "# 60w"
   ]
  },
  {
   "cell_type": "code",
   "execution_count": 80,
   "id": "33619fb3",
   "metadata": {},
   "outputs": [
    {
     "name": "stdout",
     "output_type": "stream",
     "text": [
      "30000\n"
     ]
    }
   ],
   "source": [
    "with open(\"./data/related_questions11\", \"r\") as f:\n",
    "    count = 0\n",
    "    for line in f:\n",
    "        count += 1\n",
    "        if count == 30001:\n",
    "            print(line)\n",
    "            \n",
    "    print(count)"
   ]
  },
  {
   "cell_type": "code",
   "execution_count": 81,
   "id": "26ed795c",
   "metadata": {},
   "outputs": [
    {
     "name": "stdout",
     "output_type": "stream",
     "text": [
      "321693 271048 441407 652932 427506 385787 404417 810200 76703 766361 813536 557332 329161 98136 750803 30746 150748 271588 701278 360239 \n",
      "\n",
      "20000\n"
     ]
    }
   ],
   "source": [
    "with open(\"./code_bag/related_questions11\", \"r\") as f:\n",
    "    count = 0\n",
    "    for line in f:\n",
    "        if count == 0:\n",
    "            print(line)\n",
    "        \n",
    "        count += 1\n",
    "            \n",
    "    print(count)"
   ]
  },
  {
   "cell_type": "code",
   "execution_count": 82,
   "id": "a53ce88c",
   "metadata": {},
   "outputs": [],
   "source": [
    "# Start merging\n",
    "out_file = open(\"./important_code/so_python/related_questions55_60\", \"w\")\n",
    "\n",
    "with open(\"./data/related_questions11\", \"r\") as f:\n",
    "    count = 0\n",
    "    for index, line in enumerate(f):\n",
    "        if count == 30000:\n",
    "            print(line)\n",
    "            break\n",
    "        out_file.write(line)\n",
    "        count += 1\n",
    "\n",
    "out_file.close()"
   ]
  },
  {
   "cell_type": "code",
   "execution_count": 83,
   "id": "4d863ed2",
   "metadata": {},
   "outputs": [
    {
     "name": "stdout",
     "output_type": "stream",
     "text": [
      "20000\n"
     ]
    }
   ],
   "source": [
    "# Start merging\n",
    "out_file = open(\"./important_code/so_python/related_questions55_60\", \"a\")\n",
    "\n",
    "with open(\"./code_bag/related_questions11\", \"r\") as f:\n",
    "    count = 0\n",
    "    for index, line in enumerate(f):\n",
    "        out_file.write(line)\n",
    "        count += 1\n",
    "        \n",
    "    print(count)\n",
    "\n",
    "out_file.close()"
   ]
  },
  {
   "cell_type": "code",
   "execution_count": 84,
   "id": "4c63efb3",
   "metadata": {},
   "outputs": [
    {
     "name": "stdout",
     "output_type": "stream",
     "text": [
      "50000\n"
     ]
    }
   ],
   "source": [
    "with open(\"./important_code/so_python/related_questions55_60\", \"r\") as f:\n",
    "    count = 0\n",
    "    for line in f:\n",
    "        count += 1\n",
    "    print(count)"
   ]
  },
  {
   "cell_type": "markdown",
   "id": "6a3a02d2",
   "metadata": {},
   "source": [
    "# 65w"
   ]
  },
  {
   "cell_type": "code",
   "execution_count": 97,
   "id": "7d115041",
   "metadata": {},
   "outputs": [
    {
     "name": "stdout",
     "output_type": "stream",
     "text": [
      "545971 331639 630940 722896 543322 599973 218356 770070 626802 784562 742631 88553 42637 9465 319683 299537 804280 6 16374 327869 \n",
      "\n",
      "40500\n"
     ]
    }
   ],
   "source": [
    "with open(\"./data/related_questions12\", \"r\") as f:\n",
    "    count = 0\n",
    "    for line in f:\n",
    "        count += 1\n",
    "        if count == 40001:\n",
    "            print(line)\n",
    "            \n",
    "    print(count)"
   ]
  },
  {
   "cell_type": "code",
   "execution_count": 95,
   "id": "71d15971",
   "metadata": {},
   "outputs": [
    {
     "name": "stdout",
     "output_type": "stream",
     "text": [
      "545971 331639 630940 722896 543322 599973 218356 770070 626802 784562 742631 88553 42637 9465 319683 299537 804280 6 16374 327869 \n",
      "\n",
      "10000\n"
     ]
    }
   ],
   "source": [
    "with open(\"./code_bag/related_questions12\", \"r\") as f:\n",
    "    count = 0\n",
    "    for line in f:\n",
    "        if count == 0:\n",
    "            print(line)\n",
    "        \n",
    "        count += 1\n",
    "            \n",
    "    print(count)"
   ]
  },
  {
   "cell_type": "code",
   "execution_count": 100,
   "id": "a6f44c01",
   "metadata": {},
   "outputs": [
    {
     "name": "stdout",
     "output_type": "stream",
     "text": [
      "545971 331639 630940 722896 543322 599973 218356 770070 626802 784562 742631 88553 42637 9465 319683 299537 804280 6 16374 327869 \n",
      "\n"
     ]
    }
   ],
   "source": [
    "# Start merging\n",
    "out_file = open(\"./important_code/so_python/related_questions60_65\", \"w\")\n",
    "\n",
    "with open(\"./data/related_questions12\", \"r\") as f:\n",
    "    count = 0\n",
    "    for index, line in enumerate(f):\n",
    "        if count == 40000:\n",
    "            print(line)\n",
    "            break\n",
    "        out_file.write(line)\n",
    "        count += 1\n",
    "\n",
    "out_file.close()"
   ]
  },
  {
   "cell_type": "code",
   "execution_count": 101,
   "id": "b505b839",
   "metadata": {},
   "outputs": [
    {
     "name": "stdout",
     "output_type": "stream",
     "text": [
      "545971 331639 630940 722896 543322 599973 218356 770070 626802 784562 742631 88553 42637 9465 319683 299537 804280 6 16374 327869 \n",
      "\n",
      "10000\n"
     ]
    }
   ],
   "source": [
    "# Start merging\n",
    "out_file = open(\"./important_code/so_python/related_questions60_65\", \"a\")\n",
    "\n",
    "with open(\"./code_bag/related_questions12\", \"r\") as f:\n",
    "    count = 0\n",
    "    for index, line in enumerate(f):\n",
    "        if index == 0:\n",
    "            print(line)\n",
    "        out_file.write(line)\n",
    "        count += 1\n",
    "        \n",
    "    print(count)\n",
    "\n",
    "out_file.close()"
   ]
  },
  {
   "cell_type": "code",
   "execution_count": 102,
   "id": "56ff0ed6",
   "metadata": {},
   "outputs": [
    {
     "name": "stdout",
     "output_type": "stream",
     "text": [
      "50000\n"
     ]
    }
   ],
   "source": [
    "with open(\"./important_code/so_python/related_questions60_65\", \"r\") as f:\n",
    "    count = 0\n",
    "    for line in f:\n",
    "        count += 1\n",
    "    print(count)"
   ]
  },
  {
   "cell_type": "markdown",
   "id": "3fc99b01",
   "metadata": {},
   "source": [
    "# 65 -- "
   ]
  },
  {
   "cell_type": "code",
   "execution_count": 116,
   "id": "0c9c4708",
   "metadata": {},
   "outputs": [],
   "source": [
    "file_list = [13,14,16,17,18,19,20,21,22,23]"
   ]
  },
  {
   "cell_type": "code",
   "execution_count": 118,
   "id": "a0f121d3",
   "metadata": {},
   "outputs": [
    {
     "name": "stdout",
     "output_type": "stream",
     "text": [
      "190128\n"
     ]
    }
   ],
   "source": [
    "# Start merging\n",
    "out_file = open(\"./important_code/so_python/related_questions65_\", \"w\")\n",
    "\n",
    "count = 0\n",
    "for code in file_list:\n",
    "    with open(\"./code_bag/related_questions\" + str(code), \"r\") as f:\n",
    "        for index, line in enumerate(f):\n",
    "            out_file.write(line)\n",
    "            count += 1\n",
    "\n",
    "print(count)\n",
    "out_file.close()"
   ]
  },
  {
   "cell_type": "markdown",
   "id": "f936fc10",
   "metadata": {},
   "source": [
    "# 总合并"
   ]
  },
  {
   "cell_type": "code",
   "execution_count": 119,
   "id": "d6bcd9da",
   "metadata": {},
   "outputs": [
    {
     "name": "stdout",
     "output_type": "stream",
     "text": [
      "840128\n"
     ]
    }
   ],
   "source": [
    "postfix = [\"0_5\", \"5_10\", \"10_15\", \"15_20\", \"20_25\", \"25_30\", \"30_35\", \n",
    "           \"35_40\", \"40_45\", \"45_50\", \"50_55\", \"55_60\", \"60_65\", \"65_\"]\n",
    "\n",
    "# Start merging\n",
    "out_file = open(\"./important_code/so_python/related_questions\", \"w\")\n",
    "\n",
    "count = 0\n",
    "for code in postfix:\n",
    "    with open(\"./important_code/so_python/related_questions\" + str(code), \"r\") as f:\n",
    "        for index, line in enumerate(f):\n",
    "            out_file.write(line)\n",
    "            count += 1\n",
    "\n",
    "print(count)\n",
    "out_file.close()"
   ]
  },
  {
   "cell_type": "markdown",
   "id": "852058ed",
   "metadata": {},
   "source": [
    "# 创建训练测试集"
   ]
  },
  {
   "cell_type": "code",
   "execution_count": 1,
   "id": "111f8c83",
   "metadata": {},
   "outputs": [],
   "source": [
    "import unicodedata\n",
    "import re\n",
    "from nltk.corpus import stopwords\n",
    "import nltk\n",
    "import pandas as pd\n",
    "from datasets import Dataset, load_from_disk\n",
    "\n",
    "qa_info_dataset = load_from_disk(\"./data/generated_file/python_qa_info.dataset\")"
   ]
  },
  {
   "cell_type": "code",
   "execution_count": 3,
   "id": "b6f3db31",
   "metadata": {},
   "outputs": [
    {
     "data": {
      "text/plain": [
       "Dataset({\n",
       "    features: ['a_ids', 'q_id'],\n",
       "    num_rows: 840128\n",
       "})"
      ]
     },
     "execution_count": 3,
     "metadata": {},
     "output_type": "execute_result"
    }
   ],
   "source": [
    "qa_info_dataset"
   ]
  },
  {
   "cell_type": "code",
   "execution_count": 4,
   "id": "46bea87f",
   "metadata": {},
   "outputs": [
    {
     "data": {
      "text/plain": [
       "[342,\n",
       " 471,\n",
       " 525,\n",
       " 635,\n",
       " 69410,\n",
       " 69772,\n",
       " 123307,\n",
       " 199213,\n",
       " 202259,\n",
       " 7954780,\n",
       " 13832269,\n",
       " 23143835]"
      ]
     },
     "execution_count": 4,
     "metadata": {},
     "output_type": "execute_result"
    }
   ],
   "source": [
    "qa_info_dataset['a_ids'][0]"
   ]
  },
  {
   "cell_type": "code",
   "execution_count": 5,
   "id": "42bad70b",
   "metadata": {},
   "outputs": [],
   "source": [
    "q_ids = qa_info_dataset['q_id']"
   ]
  },
  {
   "attachments": {},
   "cell_type": "markdown",
   "id": "82e52150",
   "metadata": {},
   "source": [
    "# 10w is allocated for sorting evaluation"
   ]
  },
  {
   "cell_type": "code",
   "execution_count": 5,
   "id": "cd57a9a9",
   "metadata": {},
   "outputs": [],
   "source": [
    "# Pick out 10w ids\n",
    "import random\n",
    "\n",
    "sampled_id_indices = random.sample(range(len(q_ids)), len(q_ids))"
   ]
  },
  {
   "cell_type": "code",
   "execution_count": 6,
   "id": "8c595f75",
   "metadata": {},
   "outputs": [],
   "source": [
    "# eva_q_ids_indices.sort()\n",
    "\n",
    "# eva_q_ids = []\n",
    "# new_q_ids = []\n",
    "\n",
    "# now_target_index = 0\n",
    "\n",
    "# for temp_index, temp_id in enumerate(q_ids):\n",
    "#     if now_target_index == 100000:\n",
    "#         new_q_ids.append(temp_id)\n",
    "#         continue\n",
    "    \n",
    "#     if temp_index == eva_q_ids_indices[now_target_index]:\n",
    "#         now_target_index += 1\n",
    "#         eva_q_ids.append(temp_id)\n",
    "#     else:\n",
    "#         new_q_ids.append(temp_id)\n",
    "    "
   ]
  },
  {
   "cell_type": "code",
   "execution_count": 7,
   "id": "dfbf128e",
   "metadata": {},
   "outputs": [],
   "source": [
    "eva_indices = sampled_id_indices[:100000]"
   ]
  },
  {
   "cell_type": "code",
   "execution_count": 8,
   "id": "95237312",
   "metadata": {},
   "outputs": [],
   "source": [
    "REPLACE_BY_SPACE_RE = re.compile('[/(){}\\[\\]\\|@,;]')\n",
    "GOOD_SYMBOLS_RE = re.compile('[^0-9a-z #+_]')\n",
    "STOPWORDS = set(stopwords.words('english'))\n",
    "\n",
    "def text_prepare(text):\n",
    "    text = unicodeToAscii(text.lower().strip())\n",
    "    text = text.lower()\n",
    "    text = REPLACE_BY_SPACE_RE.sub(' ', text)\n",
    "    text = GOOD_SYMBOLS_RE.sub('', text)\n",
    "#     text = ' '.join([x for x in text.split() if x and x not in STOPWORDS])\n",
    "    return text.strip()\n",
    "\n",
    "def unicodeToAscii(s):\n",
    "    return ''.join(\n",
    "        c for c in unicodedata.normalize('NFD', s)\n",
    "        if unicodedata.category(c) != 'Mn'\n",
    "    )"
   ]
  },
  {
   "cell_type": "code",
   "execution_count": 9,
   "id": "62241557",
   "metadata": {},
   "outputs": [
    {
     "name": "stdout",
     "output_type": "stream",
     "text": [
      "{\"mightn't\", 'at', \"it's\", 'this', 'such', 'be', 'it', 'too', 'd', 'those', 'she', 'which', 'there', \"haven't\", 'to', 'into', \"shouldn't\", 'herself', 'y', 'these', 'all', 'does', 'its', 'now', \"wasn't\", 'himself', 'your', \"hasn't\", 'their', 'of', 'then', 'mightn', 'haven', 'themselves', 'where', \"didn't\", \"don't\", 'as', 'he', 'only', 'having', 'from', 'so', 'didn', 'what', 'after', 'again', 'him', 'than', \"won't\", \"should've\", 'am', 'hers', 'up', 'some', \"hadn't\", 'above', \"you'll\", 'until', 'each', 'don', 'couldn', 'had', 's', 'during', 'below', 'wouldn', 'ain', 'for', \"she's\", 'by', 'ma', 'aren', \"needn't\", 'ourselves', 'doing', 'our', 'very', 'off', 'her', 've', 'on', \"mustn't\", 'while', 'who', 'here', 'theirs', 'they', 'yourself', 'between', 'through', 'other', 'hasn', 'isn', 'own', 'o', 'when', \"wouldn't\", 'is', 'itself', 'over', 'have', 'down', 'the', 'but', 'same', 'both', \"weren't\", 'before', 'not', 'can', 'shan', 'whom', 'if', \"you've\", \"that'll\", 'a', 'how', 'shouldn', 'you', 'yours', 'being', 'weren', 'doesn', 'them', 'few', 'wasn', 'we', 'myself', 'ours', 'will', 'against', \"shan't\", 'should', 'with', 'further', \"aren't\", 'just', 'm', 'why', 'out', 'any', 'are', 'll', \"you're\", \"doesn't\", 'once', 't', 'about', 'an', 'that', 'i', 're', 'needn', 'were', 'did', 'or', 'most', 'no', 'because', 'under', 'me', 'more', 'his', 'my', \"isn't\", 'been', 'in', 'do', 'was', 'won', 'yourselves', 'and', \"you'd\", 'mustn', \"couldn't\", 'hadn', 'nor', 'has'}\n",
      "True\n"
     ]
    }
   ],
   "source": [
    "print(STOPWORDS)\n",
    "print('of' in STOPWORDS)"
   ]
  },
  {
   "cell_type": "code",
   "execution_count": 10,
   "id": "16cd2f0d",
   "metadata": {},
   "outputs": [
    {
     "name": "stderr",
     "output_type": "stream",
     "text": [
      "/home/yuanhang/anaconda3/envs/fd/lib/python3.9/site-packages/numpy/lib/arraysetops.py:580: FutureWarning: elementwise comparison failed; returning scalar instead, but in the future will perform elementwise comparison\n",
      "  mask |= (ar1 == a)\n"
     ]
    }
   ],
   "source": [
    "q_csv_reader = pd.read_csv('./data/generated_file/processed_python_q_id_content.csv', index_col='id')\n",
    "a_csv_reader = pd.read_csv('./data/generated_file/processed_python_a_id_content.csv', index_col='id')"
   ]
  },
  {
   "cell_type": "code",
   "execution_count": 11,
   "id": "cad12a90",
   "metadata": {},
   "outputs": [
    {
     "data": {
      "text/plain": [
       "title                             xml processing in python\n",
       "body      i am about to build a piece of a project that...\n",
       "Name: 337, dtype: object"
      ]
     },
     "execution_count": 11,
     "metadata": {},
     "output_type": "execute_result"
    }
   ],
   "source": [
    "q_csv_reader.iloc[0]"
   ]
  },
  {
   "cell_type": "code",
   "execution_count": 12,
   "id": "27eabb01",
   "metadata": {},
   "outputs": [
    {
     "data": {
      "text/plain": [
       "' since you mentioned that youll be building fairly simple xml  the  minidom module   part of the python standard library  will likely suit your needs if you have any experience with the dom representation of xml  you should find the api quite straight forward '"
      ]
     },
     "execution_count": 12,
     "metadata": {},
     "output_type": "execute_result"
    }
   ],
   "source": [
    "a_csv_reader.iloc[4]['body']"
   ]
  },
  {
   "cell_type": "code",
   "execution_count": 13,
   "id": "e3835333",
   "metadata": {},
   "outputs": [],
   "source": [
    "import datasets\n",
    "import numpy as np\n",
    "\n",
    "train_dataset_answers = []\n",
    "train_dataset_body = []\n",
    "train_dataset_title = []"
   ]
  },
  {
   "cell_type": "code",
   "execution_count": 15,
   "id": "74e86542",
   "metadata": {},
   "outputs": [
    {
     "name": "stdout",
     "output_type": "stream",
     "text": [
      "408\n"
     ]
    }
   ],
   "source": [
    "# Related Questions\n",
    "related_questions = []\n",
    "\n",
    "# There are count questions for which the title is not in the glossary\n",
    "with open(\"./important_code/so_python/related_questions\", \"r\") as f:\n",
    "    count = 0\n",
    "    for index, line in enumerate(f):\n",
    "        # The questions related to these issues were selected indiscriminately\n",
    "        if len(line.split()) != 20:\n",
    "            count += 1\n",
    "            related_questions.append([])\n",
    "        else:\n",
    "            temp_related_questions = []\n",
    "            for t in line.split()[:20]:\n",
    "                temp_related_questions.append(eval(t))\n",
    "                \n",
    "            related_questions.append(temp_related_questions)\n",
    "            \n",
    "    print(count)"
   ]
  },
  {
   "cell_type": "code",
   "execution_count": 16,
   "id": "75455444",
   "metadata": {},
   "outputs": [
    {
     "data": {
      "text/plain": [
       "840128"
      ]
     },
     "execution_count": 16,
     "metadata": {},
     "output_type": "execute_result"
    }
   ],
   "source": [
    "# Turn relevant questions into relevant answers\n",
    "related_answers = []\n",
    "a_ids = qa_info_dataset['a_ids']\n",
    "\n",
    "\n",
    "max = 0\n",
    "for r_q_ids in related_questions:\n",
    "    temp_related_answers = []\n",
    "    \n",
    "    for temp_id in r_q_ids:\n",
    "        # Find the relevant answer to this question, noting that the id is actually an offset\n",
    "        temp_related_answers.append(a_ids[temp_id][0])\n",
    "        \n",
    "    related_answers.append(temp_related_answers)\n",
    "    \n",
    "len(related_answers)"
   ]
  },
  {
   "cell_type": "code",
   "execution_count": 17,
   "id": "f91ff54d",
   "metadata": {},
   "outputs": [
    {
     "name": "stdout",
     "output_type": "stream",
     "text": [
      "99942\n"
     ]
    }
   ],
   "source": [
    "q_titles = []\n",
    "q_bodies = []\n",
    "answers = []\n",
    "\n",
    "\n",
    "for temp_index in eva_indices:\n",
    "    \n",
    "    # Find its related answers for ids\n",
    "    temp_related_answers = related_answers[temp_index]\n",
    "    temp_answers = []\n",
    "    for a_id in temp_related_answers:\n",
    "        temp_answers.append(a_csv_reader.loc[a_id]['body'])\n",
    "        if type(temp_answers[-1]) != str:\n",
    "            temp_answers[-1] = temp_answers[-1].iloc[0]\n",
    "\n",
    "\n",
    "    if len(temp_answers) == 0:\n",
    "        continue\n",
    "        \n",
    "    # Find this corresponding id\n",
    "    temp_id = q_ids[temp_index]\n",
    "    \n",
    "    q_title = q_csv_reader.loc[temp_id]['title']\n",
    "    q_body = q_csv_reader.loc[temp_id]['body']\n",
    "    \n",
    "    # Find the id of the best answer to this question\n",
    "    best_a_id = a_ids[temp_index][0]\n",
    "    best_a = a_csv_reader.loc[best_a_id]['body']\n",
    "    if type(best_a) != str:\n",
    "            best_a = best_a.iloc[0]\n",
    "            \n",
    "    temp_answers = [best_a] + temp_answers\n",
    "    \n",
    "            \n",
    "    assert type(q_title) == str, \"q_title\"\n",
    "    assert type(q_body) == str, \"q_body\"\n",
    "    assert type(temp_answers) == list, \"temp_answers\"\n",
    "    \n",
    "    q_titles.append(q_title)\n",
    "    q_bodies.append(q_body)\n",
    "    answers.append(temp_answers)\n",
    "\n",
    "print(len(q_titles))"
   ]
  },
  {
   "cell_type": "code",
   "execution_count": 18,
   "id": "00f15f92",
   "metadata": {},
   "outputs": [],
   "source": [
    "for a_s in answers:\n",
    "    for a in a_s:\n",
    "        if type(a) != str:\n",
    "            print(a_s)"
   ]
  },
  {
   "cell_type": "code",
   "execution_count": 19,
   "id": "bea2f11e",
   "metadata": {},
   "outputs": [],
   "source": [
    "# save to dataset\n",
    "train_dic = {\"title\":q_titles, \"body\":q_bodies, \"answers\":answers}\n",
    "train_dataset = Dataset.from_dict(train_dic)\n",
    "train_dataset.save_to_disk(\"./important_code/so_python/eva.dataset\")"
   ]
  },
  {
   "cell_type": "markdown",
   "id": "8ec5775f",
   "metadata": {},
   "source": [
    "# 分出1w用来做问卷"
   ]
  },
  {
   "cell_type": "code",
   "execution_count": 6,
   "id": "ad3ae043",
   "metadata": {},
   "outputs": [],
   "source": [
    "# Pick out 10w ids\n",
    "import random\n",
    "\n",
    "sampled_id_indices = random.sample(range(len(q_ids)), len(q_ids))\n",
    "\n",
    "eva_indices = sampled_id_indices[:10000]"
   ]
  },
  {
   "cell_type": "code",
   "execution_count": 7,
   "id": "86abe888",
   "metadata": {},
   "outputs": [
    {
     "name": "stderr",
     "output_type": "stream",
     "text": [
      "/home/yuanhang/anaconda3/envs/fd/lib/python3.9/site-packages/numpy/lib/arraysetops.py:580: FutureWarning: elementwise comparison failed; returning scalar instead, but in the future will perform elementwise comparison\n",
      "  mask |= (ar1 == a)\n"
     ]
    }
   ],
   "source": [
    "q_csv_reader = pd.read_csv('./data/generated_file/natural_python_q_id_content.csv', index_col='id')\n",
    "a_csv_reader = pd.read_csv('./data/generated_file/natural_python_a_id_content.csv', index_col='id')"
   ]
  },
  {
   "cell_type": "code",
   "execution_count": 8,
   "id": "906414f0",
   "metadata": {},
   "outputs": [
    {
     "data": {
      "text/plain": [
       "title                             XML Processing in Python\n",
       "body      I am about to build a piece of a project that...\n",
       "Name: 337, dtype: object"
      ]
     },
     "execution_count": 8,
     "metadata": {},
     "output_type": "execute_result"
    }
   ],
   "source": [
    "q_csv_reader.iloc[0]"
   ]
  },
  {
   "cell_type": "code",
   "execution_count": 9,
   "id": "6b3706fb",
   "metadata": {},
   "outputs": [
    {
     "data": {
      "text/plain": [
       "' Since you mentioned that you\\'ll be building \"fairly simple\" XML, the  minidom module  (part of the Python Standard Library) will likely suit your needs. If you have any experience with the DOM representation of XML, you should find the API quite straight forward. \\n'"
      ]
     },
     "execution_count": 9,
     "metadata": {},
     "output_type": "execute_result"
    }
   ],
   "source": [
    "a_csv_reader.iloc[4]['body']"
   ]
  },
  {
   "cell_type": "code",
   "execution_count": 10,
   "id": "4f7b7ebe",
   "metadata": {},
   "outputs": [
    {
     "name": "stdout",
     "output_type": "stream",
     "text": [
      "408\n"
     ]
    }
   ],
   "source": [
    "# Read the relevant questions corresponding to each issue\n",
    "related_questions = []\n",
    "\n",
    "# There are count questions for which the title is not in the glossary\n",
    "with open(\"./important_code/so_python/related_questions\", \"r\") as f:\n",
    "    count = 0\n",
    "    for index, line in enumerate(f):\n",
    "        # The questions related to these issues were selected indiscriminately\n",
    "        if len(line.split()) != 20:\n",
    "            count += 1\n",
    "            related_questions.append([])\n",
    "        else:\n",
    "            temp_related_questions = []\n",
    "            for t in line.split()[:20]:\n",
    "                temp_related_questions.append(eval(t))\n",
    "                \n",
    "            related_questions.append(temp_related_questions)\n",
    "            \n",
    "    print(count)"
   ]
  },
  {
   "cell_type": "code",
   "execution_count": 11,
   "id": "7106b4a3",
   "metadata": {},
   "outputs": [
    {
     "data": {
      "text/plain": [
       "840128"
      ]
     },
     "execution_count": 11,
     "metadata": {},
     "output_type": "execute_result"
    }
   ],
   "source": [
    "# Turn relevant questions into relevant answers\n",
    "related_answers = []\n",
    "a_ids = qa_info_dataset['a_ids']\n",
    "\n",
    "\n",
    "max = 0\n",
    "for r_q_ids in related_questions:\n",
    "    temp_related_answers = []\n",
    "    \n",
    "    for temp_id in r_q_ids:\n",
    "        # Find the relevant answer to this question, noting that the id is actually an offset\n",
    "        temp_related_answers.append(a_ids[temp_id][0])\n",
    "        \n",
    "    related_answers.append(temp_related_answers)\n",
    "    \n",
    "len(related_answers)"
   ]
  },
  {
   "cell_type": "code",
   "execution_count": 12,
   "id": "78480944",
   "metadata": {},
   "outputs": [
    {
     "name": "stdout",
     "output_type": "stream",
     "text": [
      "id\n",
      "1669524     Maybe a bit of example code will help: Notice...\n",
      "1669524     Maybe a bit of example code will help: Notice...\n",
      "Name: body, dtype: object\n",
      "9991\n"
     ]
    }
   ],
   "source": [
    "q_titles = []\n",
    "q_bodies = []\n",
    "answers = []\n",
    "\n",
    "\n",
    "for temp_index in eva_indices:\n",
    "    \n",
    "    # Find its related answers for ids\n",
    "    temp_related_answers = related_answers[temp_index]\n",
    "    temp_answers = []\n",
    "    for a_id in temp_related_answers:\n",
    "        temp_answers.append(a_csv_reader.loc[a_id]['body'])\n",
    "        if type(temp_answers[-1]) != str:\n",
    "            print(temp_answers[-1])\n",
    "            temp_answers[-1] = temp_answers[-1].iloc[0]\n",
    "\n",
    "\n",
    "    if len(temp_answers) == 0:\n",
    "        continue\n",
    "        \n",
    "    # Find this corresponding id\n",
    "    temp_id = q_ids[temp_index]\n",
    "    \n",
    "    q_title = q_csv_reader.loc[temp_id]['title']\n",
    "    q_body = q_csv_reader.loc[temp_id]['body']\n",
    "    \n",
    "    # Find the id of the best answer to this question\n",
    "    best_a_id = a_ids[temp_index][0]\n",
    "    best_a = a_csv_reader.loc[best_a_id]['body']\n",
    "    if type(best_a) != str:\n",
    "        print(best_a)\n",
    "        best_a = best_a.iloc[0]\n",
    "            \n",
    "    temp_answers = [best_a] + temp_answers\n",
    "    \n",
    "            \n",
    "    assert type(q_title) == str, \"q_title\"\n",
    "    assert type(q_body) == str, \"q_body\"\n",
    "    assert type(temp_answers) == list, \"temp_answers\"\n",
    "    \n",
    "    q_titles.append(q_title)\n",
    "    q_bodies.append(q_body)\n",
    "    answers.append(temp_answers)\n",
    "\n",
    "print(len(q_titles))"
   ]
  },
  {
   "cell_type": "code",
   "execution_count": 13,
   "id": "99a7ef85",
   "metadata": {},
   "outputs": [],
   "source": [
    "for a_s in answers:\n",
    "    for a in a_s:\n",
    "        if type(a) != str:\n",
    "            print(a_s)"
   ]
  },
  {
   "cell_type": "code",
   "execution_count": 14,
   "id": "b5013458",
   "metadata": {},
   "outputs": [],
   "source": [
    "# Save to dataset\n",
    "train_dic = {\"title\":q_titles, \"body\":q_bodies, \"answers\":answers}\n",
    "train_dataset = Dataset.from_dict(train_dic)\n",
    "train_dataset.save_to_disk(\"./important_code/so_python/wenjuan.dataset\")"
   ]
  },
  {
   "cell_type": "code",
   "execution_count": 15,
   "id": "8f0a9f7e",
   "metadata": {},
   "outputs": [
    {
     "name": "stderr",
     "output_type": "stream",
     "text": [
      "/home/yuanhang/anaconda3/envs/fd/lib/python3.9/site-packages/numpy/lib/arraysetops.py:580: FutureWarning: elementwise comparison failed; returning scalar instead, but in the future will perform elementwise comparison\n",
      "  mask |= (ar1 == a)\n"
     ]
    }
   ],
   "source": [
    "q_csv_reader = pd.read_csv('./data/generated_file/processed_python_q_id_content.csv', index_col='id')\n",
    "a_csv_reader = pd.read_csv('./data/generated_file/processed_python_a_id_content.csv', index_col='id')"
   ]
  },
  {
   "cell_type": "code",
   "execution_count": 16,
   "id": "eab14e93",
   "metadata": {},
   "outputs": [
    {
     "name": "stdout",
     "output_type": "stream",
     "text": [
      "id\n",
      "1669524     maybe a bit of example code will help notice ...\n",
      "1669524     maybe a bit of example code will help notice ...\n",
      "Name: body, dtype: object\n",
      "9991\n"
     ]
    }
   ],
   "source": [
    "q_titles = []\n",
    "q_bodies = []\n",
    "answers = []\n",
    "\n",
    "\n",
    "for temp_index in eva_indices:\n",
    "    \n",
    "    # Find its related answers for ids\n",
    "    temp_related_answers = related_answers[temp_index]\n",
    "    temp_answers = []\n",
    "    for a_id in temp_related_answers:\n",
    "        temp_answers.append(a_csv_reader.loc[a_id]['body'])\n",
    "        if type(temp_answers[-1]) != str:\n",
    "            print(temp_answers[-1])\n",
    "            temp_answers[-1] = temp_answers[-1].iloc[0]\n",
    "\n",
    "\n",
    "    if len(temp_answers) == 0:\n",
    "        continue\n",
    "        \n",
    "    # Find this corresponding id\n",
    "    temp_id = q_ids[temp_index]\n",
    "    \n",
    "    q_title = q_csv_reader.loc[temp_id]['title']\n",
    "    q_body = q_csv_reader.loc[temp_id]['body']\n",
    "    \n",
    "    # Find the id of the best answer to this question\n",
    "    best_a_id = a_ids[temp_index][0]\n",
    "    best_a = a_csv_reader.loc[best_a_id]['body']\n",
    "    if type(best_a) != str:\n",
    "        print(best_a)\n",
    "        best_a = best_a.iloc[0]\n",
    "            \n",
    "    temp_answers = [best_a] + temp_answers\n",
    "    \n",
    "            \n",
    "    assert type(q_title) == str, \"q_title\"\n",
    "    assert type(q_body) == str, \"q_body\"\n",
    "    assert type(temp_answers) == list, \"temp_answers\"\n",
    "    \n",
    "    q_titles.append(q_title)\n",
    "    q_bodies.append(q_body)\n",
    "    answers.append(temp_answers)\n",
    "\n",
    "print(len(q_titles))"
   ]
  },
  {
   "cell_type": "code",
   "execution_count": 17,
   "id": "329fd8a3",
   "metadata": {},
   "outputs": [],
   "source": [
    "for a_s in answers:\n",
    "    for a in a_s:\n",
    "        if type(a) != str:\n",
    "            print(a_s)"
   ]
  },
  {
   "cell_type": "code",
   "execution_count": 18,
   "id": "c2b8ce99",
   "metadata": {},
   "outputs": [],
   "source": [
    "# Save to dataset\n",
    "train_dic = {\"title\":q_titles, \"body\":q_bodies, \"answers\":answers}\n",
    "train_dataset = Dataset.from_dict(train_dic)\n",
    "train_dataset.save_to_disk(\"./important_code/so_python/run_wenjuan.dataset\")"
   ]
  },
  {
   "cell_type": "markdown",
   "id": "194dee0d",
   "metadata": {},
   "source": [
    "# 剩下的用来分类"
   ]
  },
  {
   "cell_type": "code",
   "execution_count": 20,
   "id": "52d570b6",
   "metadata": {},
   "outputs": [
    {
     "name": "stdout",
     "output_type": "stream",
     "text": [
      "740128\n"
     ]
    }
   ],
   "source": [
    "class_indices = sampled_id_indices[100000:]\n",
    "print(len(class_indices))"
   ]
  },
  {
   "cell_type": "code",
   "execution_count": 21,
   "id": "83136d20",
   "metadata": {},
   "outputs": [],
   "source": [
    "class_q_id = []\n",
    "class_best_a_id = []\n",
    "class_postive_a_id = []\n",
    "class_neutral_a_id = []\n",
    "class_bad_a_id = []"
   ]
  },
  {
   "cell_type": "code",
   "execution_count": 22,
   "id": "1e937696",
   "metadata": {},
   "outputs": [],
   "source": [
    "import random\n",
    "\n",
    "for class_i in class_indices:\n",
    "    # Related Answers\n",
    "    temp_a_ids = related_answers[class_i]\n",
    "    if len(temp_a_ids) == 0:\n",
    "        continue\n",
    "    else:\n",
    "        class_neutral_a_id.append(temp_a_ids[0])\n",
    "    \n",
    "    # q_id\n",
    "    temp_q_id = q_ids[class_i]\n",
    "    class_q_id.append(temp_q_id)\n",
    "    \n",
    "    # The best answer and its general answer\n",
    "    temp_a_ids = a_ids[class_i]\n",
    "    \n",
    "    class_best_a_id.append(temp_a_ids[0])\n",
    "    class_postive_a_id.append(temp_a_ids[1:])\n",
    "#     if len(temp_a_ids) == 1:\n",
    "#         class_postive_a_id.append(-1)\n",
    "#     else:\n",
    "#         class_postive_a_id.append(temp_a_ids[1])\n",
    "    \n",
    "    # Randomly selected junk answers\n",
    "    bad_index = class_i\n",
    "    while bad_index == class_i:\n",
    "        bad_index = random.randint(0, len(q_ids)-1)\n",
    "        \n",
    "    class_bad_a_id.append(a_ids[bad_index][0])\n"
   ]
  },
  {
   "cell_type": "code",
   "execution_count": 23,
   "id": "4f34b392",
   "metadata": {},
   "outputs": [
    {
     "name": "stdout",
     "output_type": "stream",
     "text": [
      "739778\n"
     ]
    }
   ],
   "source": [
    "print(len(class_q_id))"
   ]
  },
  {
   "cell_type": "code",
   "execution_count": 24,
   "id": "db8ee75f",
   "metadata": {},
   "outputs": [
    {
     "name": "stdout",
     "output_type": "stream",
     "text": [
      "600357\n"
     ]
    }
   ],
   "source": [
    "count = 0\n",
    "for xxx in class_postive_a_id:\n",
    "\n",
    "    count += len(xxx)\n",
    "print(count)"
   ]
  },
  {
   "cell_type": "code",
   "execution_count": 25,
   "id": "66ee6ac4",
   "metadata": {},
   "outputs": [],
   "source": [
    "# The next division into test set and training set, not tokenizer\n",
    "# question title， question body， answer， label"
   ]
  },
  {
   "cell_type": "code",
   "execution_count": 26,
   "id": "8a3fdfba",
   "metadata": {},
   "outputs": [],
   "source": [
    "question_title = []\n",
    "question_body = []\n",
    "answers = []\n",
    "labels = []"
   ]
  },
  {
   "cell_type": "code",
   "execution_count": 27,
   "id": "75d0a1bc",
   "metadata": {},
   "outputs": [],
   "source": [
    "for index, q_id in enumerate(class_q_id):\n",
    "    title = q_csv_reader.loc[q_id]['title']\n",
    "    body = q_csv_reader.loc[q_id]['body'] \n",
    "    \n",
    "    # Best Answer\n",
    "    target_a_id = class_best_a_id[index]\n",
    "    answer = a_csv_reader.loc[target_a_id]['body']\n",
    "    if type(answer) != str:\n",
    "        answer = answer.iloc[0]\n",
    "    question_title.append(title)\n",
    "    question_body.append(body)\n",
    "    answers.append(answer)\n",
    "    labels.append(3)\n",
    "    \n",
    "    # General answer\n",
    "    for target_a_id in class_postive_a_id[index]:\n",
    "        answer = a_csv_reader.loc[target_a_id]['body']\n",
    "        if type(answer) != str:\n",
    "            answer = answer.iloc[0]\n",
    "        question_title.append(title)\n",
    "        question_body.append(body)\n",
    "        answers.append(answer)\n",
    "        labels.append(2)\n",
    "    \n",
    "    # Related Answers\n",
    "    target_a_id = class_neutral_a_id[index]\n",
    "    answer = a_csv_reader.loc[target_a_id]['body']\n",
    "    if type(answer) != str:\n",
    "        answer = answer.iloc[0]\n",
    "    question_title.append(title)\n",
    "    question_body.append(body)\n",
    "    answers.append(answer)\n",
    "    labels.append(1)\n",
    "    \n",
    "    # Garbage answers\n",
    "    target_a_id = class_bad_a_id[index]\n",
    "    answer = a_csv_reader.loc[target_a_id]['body']\n",
    "    if type(answer) != str:\n",
    "        answer = answer.iloc[0]\n",
    "    question_title.append(title)\n",
    "    question_body.append(body)\n",
    "    answers.append(answer)\n",
    "    labels.append(0)"
   ]
  },
  {
   "cell_type": "code",
   "execution_count": 28,
   "id": "670dea56",
   "metadata": {},
   "outputs": [
    {
     "name": "stdout",
     "output_type": "stream",
     "text": [
      "2819691 2819691 2819691 2819691\n"
     ]
    }
   ],
   "source": [
    "print(len(question_body),len(question_title),len(answers),len(labels))"
   ]
  },
  {
   "cell_type": "code",
   "execution_count": 29,
   "id": "869d444b",
   "metadata": {},
   "outputs": [],
   "source": [
    "temp_dic = {\"title\":question_title, \"body\":question_body, \"answers\":answers, 'label':labels}\n",
    "dataset = Dataset.from_dict(temp_dic)"
   ]
  },
  {
   "cell_type": "code",
   "execution_count": 30,
   "id": "0e44ede9",
   "metadata": {},
   "outputs": [],
   "source": [
    "dataset = dataset.train_test_split(test_size=0.2)"
   ]
  },
  {
   "cell_type": "code",
   "execution_count": 31,
   "id": "caf8ed9e",
   "metadata": {},
   "outputs": [],
   "source": [
    "dataset.save_to_disk(\"./important_code/so_python/classify.dataset\")"
   ]
  },
  {
   "cell_type": "code",
   "execution_count": 32,
   "id": "b30685ae",
   "metadata": {},
   "outputs": [
    {
     "name": "stdout",
     "output_type": "stream",
     "text": [
      "[590837, 592299, 480484, 592132]\n",
      "[148941, 147479, 119873, 147646]\n"
     ]
    }
   ],
   "source": [
    "train_labels = dataset['train']['label']\n",
    "class_count = [0,0,0,0]\n",
    "for l in train_labels:\n",
    "    class_count[l] += 1\n",
    "print(class_count)\n",
    "\n",
    "train_labels = dataset['test']['label']\n",
    "class_count = [0,0,0,0]\n",
    "for l in train_labels:\n",
    "    class_count[l] += 1\n",
    "print(class_count)"
   ]
  },
  {
   "cell_type": "code",
   "execution_count": null,
   "id": "aadaaede",
   "metadata": {},
   "outputs": [],
   "source": []
  }
 ],
 "metadata": {
  "kernelspec": {
   "display_name": "Python 3",
   "language": "python",
   "name": "python3"
  },
  "language_info": {
   "codemirror_mode": {
    "name": "ipython",
    "version": 3
   },
   "file_extension": ".py",
   "mimetype": "text/x-python",
   "name": "python",
   "nbconvert_exporter": "python",
   "pygments_lexer": "ipython3",
   "version": "3.8.10 (default, Nov 14 2022, 12:59:47) \n[GCC 9.4.0]"
  },
  "vscode": {
   "interpreter": {
    "hash": "916dbcbb3f70747c44a77c7bcd40155683ae19c65e1c03b4aa3499c5328201f1"
   }
  }
 },
 "nbformat": 4,
 "nbformat_minor": 5
}
